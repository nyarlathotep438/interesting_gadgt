{
 "cells": [
  {
   "cell_type": "code",
   "execution_count": 11,
   "id": "80507f69-eeab-44c7-991d-67b750c9b16c",
   "metadata": {
    "tags": []
   },
   "outputs": [],
   "source": [
    "#Module import block\n",
    "import random"
   ]
  },
  {
   "cell_type": "code",
   "execution_count": 12,
   "id": "479aa1de-322f-40d0-85ca-f4bea1006d19",
   "metadata": {},
   "outputs": [],
   "source": [
    "#Define variable\n",
    "card_num = list(range(1,53))\n",
    "\n",
    "Club = list(range(1,14))\n",
    "Diamond = list(range(14,27))\n",
    "Heart = list(range(27,40))\n",
    "Spade = list(range(40,53))\n",
    "\n",
    "Side = ['N','E','S','W']\n",
    "\n",
    "real_card = {1:'2', 2:'3', 3:'4', 4:'5', 5:'6',6:'7',7:'8',8:'9', 9:'10', 10:'J', 11:'Q', 12:'K', 13:'A'}\n",
    "high_card_point = {'J':1, 'Q':2, 'K':3, 'A':4}\n",
    "\n",
    "player_num = 4"
   ]
  },
  {
   "cell_type": "code",
   "execution_count": 16,
   "id": "6cf671a2-b9dd-4761-aae2-702be7026d81",
   "metadata": {},
   "outputs": [
    {
     "data": {
      "text/plain": [
       "{'N': [['2', '6', '9', '10', 'J'],\n",
       "  ['3', '4', '7', 'K', 'A'],\n",
       "  ['3', 'A'],\n",
       "  ['3'],\n",
       "  12],\n",
       " 'E': [['5', '8', 'A'],\n",
       "  ['2', '8'],\n",
       "  ['4', 'Q'],\n",
       "  ['2', '5', 'J', 'Q', 'K', 'A'],\n",
       "  16],\n",
       " 'S': [['4', 'Q'],\n",
       "  ['6', '9', '10', 'J', 'Q'],\n",
       "  ['2', '5', '7', '10'],\n",
       "  ['6', '7'],\n",
       "  5],\n",
       " 'W': [['3', '7', 'K'],\n",
       "  ['5'],\n",
       "  ['6', '8', '9', 'J', 'K'],\n",
       "  ['4', '8', '9', '10'],\n",
       "  7]}"
      ]
     },
     "execution_count": 16,
     "metadata": {},
     "output_type": "execute_result"
    }
   ],
   "source": [
    "#Deal card to 4 players\n",
    "def deal():\n",
    "    random.shuffle(card_num)\n",
    "    hand = [card_num[:13],card_num[13:26],card_num[26:39],card_num[39:]]\n",
    "    deal_info = {}\n",
    "    for i in range(player_num):\n",
    "        C = []\n",
    "        rC = []\n",
    "        D = []\n",
    "        rD = []\n",
    "        H = []\n",
    "        rH = []\n",
    "        S = []\n",
    "        rS = []\n",
    "        hcp = 0\n",
    "        for j in hand[i]:\n",
    "            if j in Club:\n",
    "                C.append(j)\n",
    "            elif j in Diamond:\n",
    "                D.append(j)\n",
    "            elif j in Heart:\n",
    "                H.append(j) \n",
    "            else:\n",
    "                S.append(j)\n",
    "                \n",
    "        C.sort()\n",
    "        D.sort()\n",
    "        H.sort()\n",
    "        S.sort()\n",
    "        result = [C,D,H,S]\n",
    "        for club in result[0]:\n",
    "            if high_card_point.get(real_card[club]) != None:\n",
    "                hcp += high_card_point.get(real_card[club])\n",
    "            rC.append(real_card[club])\n",
    "        for diamond in result[1]:\n",
    "            if high_card_point.get(real_card[diamond - 13]) != None:\n",
    "                hcp += high_card_point.get(real_card[diamond - 13])\n",
    "            rD.append(real_card[diamond - 13])\n",
    "        for heart in result[2]:\n",
    "            if high_card_point.get(real_card[heart - 26]) != None:\n",
    "                hcp += high_card_point.get(real_card[heart - 26])\n",
    "            rH.append(real_card[heart - 26])\n",
    "        for spade in result[3]:\n",
    "            if high_card_point.get(real_card[spade - 39]) != None:\n",
    "                hcp += high_card_point.get(real_card[spade - 39])\n",
    "            rS.append(real_card[spade - 39])\n",
    "        deal_info[Side[i]] = [rC,rD,rH,rS,hcp]\n",
    "        '''print('%s Hand      C：%s，D:%s，H:%s，S:%s，HCP %s'%(Side[i],rC,rD,rH,rS,hcp) )'''\n",
    "    \n",
    "    return deal_info\n",
    "\n",
    "deal()"
   ]
  }
 ],
 "metadata": {
  "kernelspec": {
   "display_name": "Python 3 (ipykernel)",
   "language": "python",
   "name": "python3"
  },
  "language_info": {
   "codemirror_mode": {
    "name": "ipython",
    "version": 3
   },
   "file_extension": ".py",
   "mimetype": "text/x-python",
   "name": "python",
   "nbconvert_exporter": "python",
   "pygments_lexer": "ipython3",
   "version": "3.8.13"
  }
 },
 "nbformat": 4,
 "nbformat_minor": 5
}
