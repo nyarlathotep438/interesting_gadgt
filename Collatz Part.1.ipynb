{
 "cells": [
  {
   "cell_type": "markdown",
   "id": "25717232",
   "metadata": {},
   "source": [
    "# 冰雹猜想 第一部分"
   ]
  },
  {
   "cell_type": "markdown",
   "id": "617c62d7",
   "metadata": {},
   "source": [
    "## 冰雹猜想的最初形态"
   ]
  },
  {
   "cell_type": "markdown",
   "id": "f9a331c3",
   "metadata": {},
   "source": [
    "所谓冰雹猜想，简单地说，就是指：对于一个正整数N，如果它是奇数，那么就对其进行3N+1，若其为偶数，则进行N/2，以此类推，最终总会得到1.这里利用代码实现一下，大家可以运行一下，尝试一下能不能让下面的代码陷入死循环。（注：下面的代码只有在n=1的时候才会停下，所以说只要输入的正整数不能让n=1就会让代码陷入死循环）"
   ]
  },
  {
   "cell_type": "code",
   "execution_count": 1,
   "id": "e330c46d",
   "metadata": {
    "collapsed": true,
    "jupyter": {
     "outputs_hidden": true
    },
    "tags": []
   },
   "outputs": [
    {
     "name": "stdout",
     "output_type": "stream",
     "text": [
      "初始的n值为：27\n",
      "第1轮，当前n=82\n",
      "第2轮，当前n=41\n",
      "第3轮，当前n=124\n",
      "第4轮，当前n=62\n",
      "第5轮，当前n=31\n",
      "第6轮，当前n=94\n",
      "第7轮，当前n=47\n",
      "第8轮，当前n=142\n",
      "第9轮，当前n=71\n",
      "第10轮，当前n=214\n",
      "第11轮，当前n=107\n",
      "第12轮，当前n=322\n",
      "第13轮，当前n=161\n",
      "第14轮，当前n=484\n",
      "第15轮，当前n=242\n",
      "第16轮，当前n=121\n",
      "第17轮，当前n=364\n",
      "第18轮，当前n=182\n",
      "第19轮，当前n=91\n",
      "第20轮，当前n=274\n",
      "第21轮，当前n=137\n",
      "第22轮，当前n=412\n",
      "第23轮，当前n=206\n",
      "第24轮，当前n=103\n",
      "第25轮，当前n=310\n",
      "第26轮，当前n=155\n",
      "第27轮，当前n=466\n",
      "第28轮，当前n=233\n",
      "第29轮，当前n=700\n",
      "第30轮，当前n=350\n",
      "第31轮，当前n=175\n",
      "第32轮，当前n=526\n",
      "第33轮，当前n=263\n",
      "第34轮，当前n=790\n",
      "第35轮，当前n=395\n",
      "第36轮，当前n=1186\n",
      "第37轮，当前n=593\n",
      "第38轮，当前n=1780\n",
      "第39轮，当前n=890\n",
      "第40轮，当前n=445\n",
      "第41轮，当前n=1336\n",
      "第42轮，当前n=668\n",
      "第43轮，当前n=334\n",
      "第44轮，当前n=167\n",
      "第45轮，当前n=502\n",
      "第46轮，当前n=251\n",
      "第47轮，当前n=754\n",
      "第48轮，当前n=377\n",
      "第49轮，当前n=1132\n",
      "第50轮，当前n=566\n",
      "第51轮，当前n=283\n",
      "第52轮，当前n=850\n",
      "第53轮，当前n=425\n",
      "第54轮，当前n=1276\n",
      "第55轮，当前n=638\n",
      "第56轮，当前n=319\n",
      "第57轮，当前n=958\n",
      "第58轮，当前n=479\n",
      "第59轮，当前n=1438\n",
      "第60轮，当前n=719\n",
      "第61轮，当前n=2158\n",
      "第62轮，当前n=1079\n",
      "第63轮，当前n=3238\n",
      "第64轮，当前n=1619\n",
      "第65轮，当前n=4858\n",
      "第66轮，当前n=2429\n",
      "第67轮，当前n=7288\n",
      "第68轮，当前n=3644\n",
      "第69轮，当前n=1822\n",
      "第70轮，当前n=911\n",
      "第71轮，当前n=2734\n",
      "第72轮，当前n=1367\n",
      "第73轮，当前n=4102\n",
      "第74轮，当前n=2051\n",
      "第75轮，当前n=6154\n",
      "第76轮，当前n=3077\n",
      "第77轮，当前n=9232\n",
      "第78轮，当前n=4616\n",
      "第79轮，当前n=2308\n",
      "第80轮，当前n=1154\n",
      "第81轮，当前n=577\n",
      "第82轮，当前n=1732\n",
      "第83轮，当前n=866\n",
      "第84轮，当前n=433\n",
      "第85轮，当前n=1300\n",
      "第86轮，当前n=650\n",
      "第87轮，当前n=325\n",
      "第88轮，当前n=976\n",
      "第89轮，当前n=488\n",
      "第90轮，当前n=244\n",
      "第91轮，当前n=122\n",
      "第92轮，当前n=61\n",
      "第93轮，当前n=184\n",
      "第94轮，当前n=92\n",
      "第95轮，当前n=46\n",
      "第96轮，当前n=23\n",
      "第97轮，当前n=70\n",
      "第98轮，当前n=35\n",
      "第99轮，当前n=106\n",
      "第100轮，当前n=53\n",
      "第101轮，当前n=160\n",
      "第102轮，当前n=80\n",
      "第103轮，当前n=40\n",
      "第104轮，当前n=20\n",
      "第105轮，当前n=10\n",
      "第106轮，当前n=5\n",
      "第107轮，当前n=16\n",
      "第108轮，当前n=8\n",
      "第109轮，当前n=4\n",
      "第110轮，当前n=2\n",
      "第111轮，当前n=1\n",
      "经过111轮，n=1\n"
     ]
    }
   ],
   "source": [
    "#大家要输入正整数哦！不然会报错的……\n",
    "n = int(input('初始的n值为：'))\n",
    "m = 0\n",
    "while n != 1:\n",
    "    if n % 2 == 1:\n",
    "        n = 3 * n + 1\n",
    "        m += 1\n",
    "        print('第{}轮，当前n={}'.format(m,int(n)))\n",
    "    else:\n",
    "        n = n/2\n",
    "        m += 1\n",
    "        print('第{}轮，当前n={}'.format(m,int(n)))\n",
    "\n",
    "print('经过{}轮，n=1'.format(m))"
   ]
  },
  {
   "cell_type": "markdown",
   "id": "edadcd20",
   "metadata": {},
   "source": [
    "怎样？是不是怎么输入数字都不会导致程序陷入死循环？这个数学游戏能从1974年存活至今，就是因为其有趣的特点：无论你取什么样的值，最终都会进入“4-2-1”这个结局，这就是冰雹猜想最初的形式。"
   ]
  },
  {
   "cell_type": "markdown",
   "id": "de144a14",
   "metadata": {},
   "source": [
    "## 神奇数字27"
   ]
  },
  {
   "cell_type": "markdown",
   "id": "2eba2718",
   "metadata": {},
   "source": [
    "当然，这个猜想还有很多有趣的地方，比如说，大多数的100以内的数字，所经历的轮数（被大家称为‘雹程’）和N的大小变化都不会相差很多，但其中有一个非常特殊的数字，那就是27，会发生什么事呢？试一试下面的代码，直接运行就好："
   ]
  },
  {
   "cell_type": "code",
   "execution_count": 2,
   "id": "2cd2d2bf",
   "metadata": {},
   "outputs": [
    {
     "name": "stdout",
     "output_type": "stream",
     "text": [
      "对于26而言，共有10轮雹程\n",
      "最大值为40.0。\n",
      "对于27而言，共有111轮雹程\n",
      "最大值为9232.0。\n"
     ]
    },
    {
     "data": {
      "image/png": "[encoded data removed]",
      "text/plain": [
       "<Figure size 640x480 with 1 Axes>"
      ]
     },
     "metadata": {},
     "output_type": "display_data"
    }
   ],
   "source": [
    "%matplotlib inline\n",
    "import matplotlib.pyplot as plt #这个模块用来给大家画图\n",
    "\n",
    "def Collatz(n):                 #提出这个猜想的就是Lothar Collatz，所以也叫克拉茨猜想\n",
    "    global m_list,n_list\n",
    "    m = 0\n",
    "    n_list = [n]\n",
    "    while n != 1:\n",
    "        if n % 2 == 1:\n",
    "            n = 3 * n + 1\n",
    "            n_list.append(n)\n",
    "            m += 1\n",
    "        else:\n",
    "            n = n/2\n",
    "            n_list.append(n)\n",
    "            m += 1\n",
    "        m_list = range(m+1)\n",
    "    return m_list,n_list\n",
    "\n",
    "Collatz(26)\n",
    "x1 = m_list\n",
    "y1 = n_list\n",
    "print('对于26而言，共有{}轮雹程'.format(max(m_list)))\n",
    "print('最大值为{}。'.format(max(n_list)))\n",
    "Collatz(27)\n",
    "x2 = m_list\n",
    "y2 = n_list\n",
    "print('对于27而言，共有{}轮雹程'.format(max(m_list)))\n",
    "print('最大值为{}。'.format(max(n_list)))\n",
    "\n",
    "plt.plot(x1,y1,color='red',linewidth=1.0,linestyle='-') #26被用来作为对照组，正如大家所见，在27的对比下几乎看不到起伏\n",
    "plt.plot(x2,y2,color='blue',linewidth=1.0,linestyle='-')\n",
    "plt.show()"
   ]
  },
  {
   "cell_type": "markdown",
   "id": "912174c7",
   "metadata": {},
   "source": [
    "发现问题了吧？这个平平无奇的自然数引发了这样的剧烈波动。这个猜想似乎还有很多东西可以发掘，之后我还会接着玩这个游戏的。"
   ]
  }
 ],
 "metadata": {
  "kernelspec": {
   "display_name": "Python 3 (ipykernel)",
   "language": "python",
   "name": "python3"
  },
  "language_info": {
   "codemirror_mode": {
    "name": "ipython",
    "version": 3
   },
   "file_extension": ".py",
   "mimetype": "text/x-python",
   "name": "python",
   "nbconvert_exporter": "python",
   "pygments_lexer": "ipython3",
   "version": "3.8.13"
  }
 },
 "nbformat": 4,
 "nbformat_minor": 5
}
